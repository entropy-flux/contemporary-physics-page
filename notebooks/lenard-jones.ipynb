{
 "cells": [
  {
   "cell_type": "markdown",
   "id": "545bd782",
   "metadata": {},
   "source": [
    "$$\n",
    "E_0 = \\frac{6\\hbar}{2^{1/6}\\sigma}\\sqrt{\\frac{\\epsilon}{m}} \n",
    "$$"
   ]
  },
  {
   "cell_type": "markdown",
   "id": "23a76a8e",
   "metadata": {},
   "source": [
    "\n",
    "Para el $\\text{Ar}$\n",
    "- $\\hbar = 4.135 \\times 10^{-15} \\text{eV}\\cdot \\text{s}$\n",
    "- $\\sigma = 0.340 \\times 10^{-9} \\text{m}$\n",
    "- $\\epsilon = 10.5 \\times 10^{-3} \\text{eV}$\n",
    "- $m = 39.948 \\text{u}$"
   ]
  },
  {
   "cell_type": "code",
   "execution_count": 6,
   "id": "39e0d5df",
   "metadata": {},
   "outputs": [
    {
     "name": "stdout",
     "output_type": "stream",
     "text": [
      "E0 = 10.359842080476623 meV\n"
     ]
    }
   ],
   "source": [
    "import math\n",
    "\n",
    "# Given constants\n",
    "hbar = 4.135e-15  # eV·s\n",
    "sigma = 0.340e-9  # m\n",
    "epsilon = 10.5e-3  # eV\n",
    "m_u = 39.948  # atomic mass units\n",
    "\n",
    "# Speed of light in m/s\n",
    "c = 3.0e8\n",
    "\n",
    "# Convert mass from atomic mass units to eV/c^2\n",
    "m_ev_c2 = m_u * 931.5e6  # eV/c^2\n",
    "\n",
    "# Convert mass to kg * m^2 / s^2 equivalent for sqrt(epsilon/m)\n",
    "# To keep consistent units in the sqrt, mass must be in eV·s²/m² units\n",
    "# Since hbar is in eV·s, and sigma in meters, keeping mass in eV/c² and including c adjusts units.\n",
    "\n",
    "# Calculate E0\n",
    "E0 = (6 * hbar) / (2**(1/6) * sigma) * math.sqrt(epsilon / (m_ev_c2 / c**2))\n",
    "\n",
    "print(f\"E0 = {E0*1000} meV\")"
   ]
  },
  {
   "cell_type": "code",
   "execution_count": 8,
   "id": "92dba835",
   "metadata": {},
   "outputs": [
    {
     "name": "stdout",
     "output_type": "stream",
     "text": [
      "E0 = 12.577689043065428 meV\n"
     ]
    }
   ],
   "source": [
    "import math\n",
    "\n",
    "# Given constants for new case\n",
    "hbar = 4.135e-15  # eV·s\n",
    "sigma = 0.256e-9  # m\n",
    "epsilon = 0.879e-3  # eV\n",
    "m_u = 4.002  # atomic mass units\n",
    "\n",
    "# Speed of light in m/s\n",
    "c = 3.0e8\n",
    "\n",
    "# Convert mass from atomic mass units to eV/c^2\n",
    "m_ev_c2 = m_u * 931.5e6  # eV/c^2\n",
    "\n",
    "# Calculate E0\n",
    "E0 = (6 * hbar) / (2**(1/6) * sigma) * math.sqrt(epsilon / (m_ev_c2 / c**2))\n",
    "\n",
    "print(f\"E0 = {E0*1000} meV\")\n"
   ]
  }
 ],
 "metadata": {
  "kernelspec": {
   "display_name": "torch",
   "language": "python",
   "name": "python3"
  },
  "language_info": {
   "codemirror_mode": {
    "name": "ipython",
    "version": 3
   },
   "file_extension": ".py",
   "mimetype": "text/x-python",
   "name": "python",
   "nbconvert_exporter": "python",
   "pygments_lexer": "ipython3",
   "version": "3.12.2"
  }
 },
 "nbformat": 4,
 "nbformat_minor": 5
}
